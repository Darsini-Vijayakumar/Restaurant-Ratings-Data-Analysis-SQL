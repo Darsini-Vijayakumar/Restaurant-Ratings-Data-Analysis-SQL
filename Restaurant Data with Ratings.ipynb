{
 "cells": [
  {
   "cell_type": "markdown",
   "id": "63f4690c",
   "metadata": {},
   "source": [
    "# Restaurant Data with Ratings"
   ]
  },
  {
   "cell_type": "markdown",
   "id": "5f733ac7",
   "metadata": {},
   "source": [
    "### Data Dictionary"
   ]
  },
  {
   "cell_type": "markdown",
   "id": "f5200635",
   "metadata": {},
   "source": [
    "There are 5 data files that are grouped like this:\n",
    "\n",
    "Restaurants\n",
    "\n",
    "1. chefmoz accepts.csv - Restaurant Payment facilities\n",
    "2. chefmozcuisine.csv - Restaurant cuisine\n",
    "3. chefmozparking.csv - Restaurant parking facilities\n",
    "4. geoplaces2.csv - Restaurant profile\n",
    "\n",
    "User-Rating\n",
    "\n",
    "5. rating_final.csv - Restaurant rating"
   ]
  },
  {
   "cell_type": "code",
   "execution_count": null,
   "id": "ad76d46e",
   "metadata": {},
   "outputs": [],
   "source": [
    "## Loading the data in bigquery and displaying them\n",
    "\n",
    "select * from `sustained-node-382818.Restaurants.Restaurant_profile` limit 5;\n",
    "select * from `sustained-node-382818.Restaurants.Cuisine` limit 5;\n",
    "select * from `sustained-node-382818.Restaurants.Parking` limit 5;\n",
    "select * from `sustained-node-382818.Restaurants.Payments` limit 5;\n",
    "select * from `sustained-node-382818.Restaurants.rating_final` limit 5;"
   ]
  },
  {
   "cell_type": "markdown",
   "id": "b22fd7c0",
   "metadata": {},
   "source": [
    "#### Data Checks"
   ]
  },
  {
   "cell_type": "code",
   "execution_count": null,
   "id": "fc38d4d4",
   "metadata": {},
   "outputs": [],
   "source": [
    "## Checking if all the rows are unique\n",
    "\n",
    "SELECT COUNT(*), COUNT (DISTINCT a.placeID)\n",
    "FROM `sustained-node-382818.Restaurants.Restaurant_profile` a;"
   ]
  },
  {
   "cell_type": "markdown",
   "id": "3dd644a8",
   "metadata": {},
   "source": [
    "- 130, 130\n",
    "- Yes all the rows are unique"
   ]
  },
  {
   "cell_type": "code",
   "execution_count": null,
   "id": "d59e87e6",
   "metadata": {},
   "outputs": [],
   "source": [
    "## Finding if all the restaurants have ratings\n",
    "select count (distinct a.placeID), \n",
    "from `sustained-node-382818.Restaurants.Restaurant_profile` a\n",
    "where a.placeID not in \n",
    "(\n",
    "  select distinct b.placeID\n",
    "  from `sustained-node-382818.Restaurants.rating_final` b \n",
    "  );"
   ]
  },
  {
   "cell_type": "markdown",
   "id": "0832dfb5",
   "metadata": {},
   "source": [
    "All restaurants have ratings"
   ]
  },
  {
   "cell_type": "markdown",
   "id": "cc65aa92",
   "metadata": {},
   "source": [
    "#### Manipulating Tables"
   ]
  },
  {
   "cell_type": "code",
   "execution_count": null,
   "id": "d4bd7828",
   "metadata": {},
   "outputs": [],
   "source": [
    "## Payments Table\n",
    "CREATE VIEW `sustained-node-382818.Restaurants.Payment_method` AS\n",
    "SELECT\n",
    "  placeID,\n",
    "  MAX(CASE WHEN rn = 1 THEN Rpayment END) AS Pay_Type1,\n",
    "  MAX(CASE WHEN rn = 2 THEN Rpayment END) AS Pay_Type2,\n",
    "  MAX(CASE WHEN rn = 3 THEN Rpayment END) AS Pay_Type3,\n",
    "  MAX(CASE WHEN rn = 4 THEN Rpayment END) AS Pay_Type4,\n",
    "  MAX(CASE WHEN rn = 5 THEN Rpayment END) AS Pay_Type5,\n",
    "  MAX(CASE WHEN rn = 6 THEN Rpayment END) AS Pay_Type6,\n",
    "  MAX(CASE WHEN rn = 7 THEN Rpayment END) AS Pay_Type7,\n",
    "  MAX(CASE WHEN rn = 8 THEN Rpayment END) AS Pay_Type8,\n",
    "  Max(rn) as Payment_method\n",
    "FROM (\n",
    "  SELECT\n",
    "    placeID,\n",
    "    Rpayment,\n",
    "    ROW_NUMBER() OVER (PARTITION BY placeID ORDER BY Rpayment) AS rn\n",
    "  FROM `sustained-node-382818.Restaurants.Payments`\n",
    ") t\n",
    "GROUP BY placeID;\n",
    "\n",
    "##QC\n",
    "select * from `sustained-node-382818.Restaurants.Payment_method` limit 5;\n",
    "\n",
    "## Cuisine Table\n",
    "CREATE VIEW `sustained-node-382818.Restaurants.Cuisine_types` AS\n",
    "SELECT\n",
    "  placeID,\n",
    "  MAX(CASE WHEN rn = 1 THEN Rcuisine END) AS Rcuisine1,\n",
    "  MAX(CASE WHEN rn = 2 THEN Rcuisine END) AS Rcuisine2,\n",
    "  MAX(CASE WHEN rn = 3 THEN Rcuisine END) AS Rcuisine3,\n",
    "  MAX(CASE WHEN rn = 4 THEN Rcuisine END) AS Rcuisine4,\n",
    "  MAX(CASE WHEN rn = 5 THEN Rcuisine END) AS Rcuisine5,\n",
    "  MAX(CASE WHEN rn = 6 THEN Rcuisine END) AS Rcuisine6,\n",
    "  MAX(CASE WHEN rn = 7 THEN Rcuisine END) AS Rcuisine7,\n",
    "  MAX(CASE WHEN rn = 8 THEN Rcuisine END) AS Rcuisine8,\n",
    "  MAX(CASE WHEN rn = 9 THEN Rcuisine END) AS Rcuisine9,\n",
    "  Max(rn) as Number_of_cuisine\n",
    "FROM (\n",
    "  SELECT\n",
    "    placeID,\n",
    "    Rcuisine,\n",
    "    ROW_NUMBER() OVER (PARTITION BY placeID ORDER BY Rcuisine) AS rn\n",
    "  FROM `sustained-node-382818.Restaurants.Cuisine`\n",
    ") t\n",
    "GROUP BY placeID;\n",
    "\n",
    "## QC\n",
    "SELECT * FROM `sustained-node-382818.Restaurants.Cuisine_types` LIMIT 5;"
   ]
  },
  {
   "cell_type": "markdown",
   "id": "f82f3b54",
   "metadata": {},
   "source": [
    "#### Joining all Tables"
   ]
  },
  {
   "cell_type": "code",
   "execution_count": null,
   "id": "851b05e2",
   "metadata": {},
   "outputs": [],
   "source": [
    "CREATE OR REPLACE VIEW `sustained-node-382818.Restaurants.Restaurant_rating` AS\n",
    "WITH RESTAURANTS AS\n",
    "(\n",
    "select a.*,\n",
    "b.Rcuisine1, b.Rcuisine2, b.Rcuisine3, b.number_of_cuisine,\n",
    "d.Payment_method,\n",
    "c.parking_lot1 , c.parking_lot2\n",
    "FROM `sustained-node-382818.Restaurants.Restaurant_profile` a\n",
    "left join `sustained-node-382818.Restaurants.Cuisine_types` b ON a.placeID = b.placeID\n",
    "left join `sustained-node-382818.Restaurants.Parking` c ON a.placeID = c.placeID\n",
    "left join `sustained-node-382818.Restaurants.Payment_method` d ON a.placeID = d.placeID\n",
    "order by 1,2\n",
    "),\n",
    "\n",
    "RATING AS\n",
    "(\n",
    "SELECT DISTINCT placeID, \n",
    "ROUND(AVG(rating) OVER (PARTITION BY placeID ORDER BY placeID), 2) AS rating,\n",
    "ROUND(AVG(food_rating) OVER (PARTITION BY placeID ORDER BY placeID), 2) AS food_rating,\n",
    "ROUND(AVG(service_rating) OVER (PARTITION BY placeID ORDER BY placeID), 2) AS service_rating\n",
    "FROM `sustained-node-382818.Restaurants.rating_final`\n",
    ")\n",
    "\n",
    "SELECT A.*, B.RATING, B.FOOD_RATING, B.SERVICE_RATING\n",
    "FROM RESTAURANTS A\n",
    "JOIN RATING B\n",
    "ON A.PLACEID = B.PLACEID ;\n",
    "\n",
    "\n",
    "## Viewing the Combined Table\n",
    "SELECT * FROM `sustained-node-382818.Restaurants.Restaurant_rating` LIMIT 5;"
   ]
  },
  {
   "cell_type": "markdown",
   "id": "8511caaf",
   "metadata": {},
   "source": [
    "### Data Analysis"
   ]
  },
  {
   "cell_type": "code",
   "execution_count": null,
   "id": "1a639e17",
   "metadata": {},
   "outputs": [],
   "source": [
    "SELECT count(distinct placeID) FROM `sustained-node-382818.Restaurants.Restaurant_rating` ;"
   ]
  },
  {
   "cell_type": "markdown",
   "id": "6056f40a",
   "metadata": {},
   "source": [
    "130 unique restaurants are being analysed"
   ]
  },
  {
   "cell_type": "markdown",
   "id": "8f08ac5c",
   "metadata": {},
   "source": [
    "#### Restaurant Features"
   ]
  },
  {
   "cell_type": "markdown",
   "id": "9b925825",
   "metadata": {},
   "source": [
    "##### Cuisine"
   ]
  },
  {
   "cell_type": "code",
   "execution_count": null,
   "id": "ffbd0d2e",
   "metadata": {},
   "outputs": [],
   "source": [
    "## Type of Cuisine\n",
    "\n",
    "SELECT A.number_of_cuisine, COUNT(*)\n",
    "FROM `sustained-node-382818.Restaurants.Restaurant_rating` A\n",
    "GROUP BY 1"
   ]
  },
  {
   "cell_type": "markdown",
   "id": "69eb29a3",
   "metadata": {},
   "source": [
    "- There are wide variety of cuisines from fastfoods, cakeshops to regional cuisines\n",
    "- 26% of restaurants served Mexican cuisine, followed by 13% bars "
   ]
  },
  {
   "cell_type": "code",
   "execution_count": null,
   "id": "eb85945d",
   "metadata": {},
   "outputs": [],
   "source": [
    "## Number of Cuisine\n",
    "\n",
    "SELECT A.number_of_cuisine, COUNT(*)\n",
    "FROM `sustained-node-382818.Restaurants.Restaurant_rating` A\n",
    "GROUP BY 1"
   ]
  },
  {
   "cell_type": "markdown",
   "id": "57ca9988",
   "metadata": {},
   "source": [
    "- 80% restaurants serve only one type of cuisine"
   ]
  },
  {
   "cell_type": "markdown",
   "id": "7c8c9f75",
   "metadata": {},
   "source": [
    "##### Alcohol"
   ]
  },
  {
   "cell_type": "code",
   "execution_count": null,
   "id": "d90e9908",
   "metadata": {},
   "outputs": [],
   "source": [
    "select A.alcohol, count(*)\n",
    "from `sustained-node-382818.Restaurants.Restaurant_rating` A\n",
    "group by 1;"
   ]
  },
  {
   "cell_type": "markdown",
   "id": "6380ca03",
   "metadata": {},
   "source": [
    "- 70% of the restaurants do not serve alcohol\n",
    "- 26% of restaurants serve Wine and Beer\n",
    "- 4% of restaurants serve full bar"
   ]
  },
  {
   "cell_type": "markdown",
   "id": "d2d06b8d",
   "metadata": {},
   "source": [
    "##### Price"
   ]
  },
  {
   "cell_type": "code",
   "execution_count": null,
   "id": "1be73cda",
   "metadata": {},
   "outputs": [],
   "source": [
    "SELECT A.PRICE, COUNT(*)\n",
    "FROM `sustained-node-382818.Restaurants.Restaurant_rating` A\n",
    "GROUP BY 1"
   ]
  },
  {
   "cell_type": "markdown",
   "id": "102db32a",
   "metadata": {},
   "source": [
    "- 35% restaurants belong to low price category\n",
    "- 46% restaurants belong to medium price category\n",
    "- 19% restaurants belong to high price category"
   ]
  },
  {
   "cell_type": "markdown",
   "id": "a8efa8fb",
   "metadata": {},
   "source": [
    "##### Ambience"
   ]
  },
  {
   "cell_type": "code",
   "execution_count": null,
   "id": "6618165f",
   "metadata": {},
   "outputs": [],
   "source": [
    "SELECT A.Rambience, COUNT(*)\n",
    "FROM `sustained-node-382818.Restaurants.Restaurant_rating` A\n",
    "GROUP BY 1"
   ]
  },
  {
   "cell_type": "markdown",
   "id": "f58ec453",
   "metadata": {},
   "source": [
    "- 93% restaurants belong to Familiar category\n",
    "- 7% restaurants belong to Quiet category"
   ]
  },
  {
   "cell_type": "markdown",
   "id": "82fdb1b2",
   "metadata": {},
   "source": [
    "### Data Analysis | Ratings"
   ]
  },
  {
   "cell_type": "code",
   "execution_count": null,
   "id": "7149037c",
   "metadata": {},
   "outputs": [],
   "source": [
    "## Finding top 10 restaurants with the highest rating\n",
    "\n",
    "SELECT A.placeID, A.name, A.rating, A.food_rating, A.service_rating\n",
    "FROM `sustained-node-382818.Restaurants.Restaurant_rating` A\n",
    "ORDER BY A.rating DESC, A.food_rating DESC, A.service_rating DESC\n",
    "LIMIT 10;"
   ]
  },
  {
   "cell_type": "markdown",
   "id": "0e6dcc44",
   "metadata": {},
   "source": [
    "Restaurant Las Mananitas has highest overall rating including food and service followed by Michiko Restaurant Japones, emilianos"
   ]
  },
  {
   "cell_type": "code",
   "execution_count": null,
   "id": "06eab922",
   "metadata": {},
   "outputs": [],
   "source": [
    "## Restaurants with Highest rating\n",
    "\n",
    "SELECT A.placeID, A.name, A.rating\n",
    "FROM `sustained-node-382818.Restaurants.Restaurant_rating` A\n",
    "ORDER BY A.rating DESC\n",
    "LIMIT 5;"
   ]
  },
  {
   "cell_type": "markdown",
   "id": "0bc72d0c",
   "metadata": {},
   "source": [
    "Restaurant Las Mananitas has highest overall rating including food and service followed by Michiko Restaurant Japones, emilianos"
   ]
  },
  {
   "cell_type": "code",
   "execution_count": null,
   "id": "057a34d9",
   "metadata": {},
   "outputs": [],
   "source": [
    "## Restaurants with Highest food rating\n",
    "\n",
    "SELECT A.placeID, A.name, A.food_rating,\n",
    "FROM `sustained-node-382818.Restaurants.Restaurant_rating` A\n",
    "ORDER BY  A.food_rating DESC\n",
    "LIMIT 5;"
   ]
  },
  {
   "cell_type": "markdown",
   "id": "704eaaad",
   "metadata": {},
   "source": [
    "Interms of Food, little pizza Emilio Portes Gil, La Estrella de Dimas, Giovannis have highest rating apart from the restaurants in rating"
   ]
  },
  {
   "cell_type": "code",
   "execution_count": null,
   "id": "758b2837",
   "metadata": {},
   "outputs": [],
   "source": [
    "## Restaurants with Highest service rating\n",
    "\n",
    "SELECT A.placeID, A.name, A.service_rating,\n",
    "FROM `sustained-node-382818.Restaurants.Restaurant_rating` A\n",
    "ORDER BY  A.service_rating DESC\n",
    "LIMIT 5;"
   ]
  },
  {
   "cell_type": "markdown",
   "id": "0728969b",
   "metadata": {},
   "source": [
    "- Interms of service, cafe punta del cielo, El cotorreo have highest rating apart from the restaurants in rating"
   ]
  },
  {
   "cell_type": "markdown",
   "id": "7f7ca044",
   "metadata": {},
   "source": [
    "- These findings showcase that, though Restaurant Las Mananitas and Michiko Restaurant Japones top performs in rating but when in comes to food and service there are other top performers"
   ]
  },
  {
   "cell_type": "code",
   "execution_count": null,
   "id": "c0380e90",
   "metadata": {},
   "outputs": [],
   "source": [
    "## Bucketing Restaurants based on thier ratings \n",
    "\n",
    "CREATE OR REPLACE VIEW `sustained-node-382818.Restaurants.Restaurant_rating_bucket` AS\n",
    "SELECT A.*, \n",
    "  CASE\n",
    "    WHEN A.rating <= 1 THEN 'BAD'\n",
    "    WHEN A.rating > 1 AND A.rating <= 1.5 THEN 'GOOD'\n",
    "    WHEN A.rating > 1.5 AND A.rating <= 2 THEN 'EXCELLENT'\n",
    "    ELSE 'NULL'\n",
    "  END AS bucket,\n",
    "  CASE\n",
    "    WHEN A.Food_rating <= 1 THEN 'BAD'\n",
    "    WHEN A.Food_rating > 1 AND A.Food_rating <= 1.5 THEN 'GOOD'\n",
    "    WHEN A.Food_rating > 1.5 AND A.Food_rating <= 2 THEN 'EXCELLENT'\n",
    "    ELSE 'NULL'\n",
    "  END AS Food_bucket,\n",
    "  CASE\n",
    "    WHEN A.service_rating <= 1 THEN 'BAD'\n",
    "    WHEN A.service_rating > 1 AND A.service_rating <= 1.5 THEN 'GOOD'\n",
    "    WHEN A.service_rating > 1.5 AND A.service_rating <= 2 THEN 'EXCELLENT'\n",
    "    ELSE 'NULL'\n",
    "  END AS service_bucket,\n",
    "FROM `sustained-node-382818.Restaurants.Restaurant_rating` A ;"
   ]
  },
  {
   "cell_type": "code",
   "execution_count": null,
   "id": "04fc432c",
   "metadata": {},
   "outputs": [],
   "source": [
    "SELECT A. BUCKET, COUNT(*)\n",
    "FROM `sustained-node-382818.Restaurants.Restaurant_rating_bucket` A\n",
    "GROUP BY 1;"
   ]
  },
  {
   "cell_type": "markdown",
   "id": "6e750e8a",
   "metadata": {},
   "source": [
    "- 14% of restuarants had ratings greater than 1.5\n",
    "- 48% of restuarants had ratings between 1 and 1.5\n",
    "- 38% of restuarants had ratings less than 1"
   ]
  },
  {
   "cell_type": "markdown",
   "id": "098d1e54",
   "metadata": {},
   "source": [
    "### Data Analysis | Ratings - Deep Dive"
   ]
  },
  {
   "cell_type": "code",
   "execution_count": null,
   "id": "3177836c",
   "metadata": {},
   "outputs": [],
   "source": [
    "## Checking relationship among price, ambience, smoking area, cuisine and ratings\n",
    "\n",
    "WITH counts AS (\n",
    "  SELECT a.dress_code,\n",
    "  -- a.price, a.Rambience, a.area, a.smoking_area, a.number_of_cuisine, a.Rcuisine1, a.dress_code\n",
    "  COUNT(*) AS count\n",
    "  FROM `sustained-node-382818.Restaurants.Restaurant_rating_bucket` a\n",
    "  WHERE bucket IN ('EXCELLENT','GOOD')\n",
    "  GROUP BY 1\n",
    ")\n",
    "SELECT c.dress_code,\n",
    "-- c.price, c.Rambience, c.area, c.smoking_area, c.number_of_cuisine, c.Rcuisine1, c.dress_code\n",
    "c.count, ROUND(c.count / total.total_count * 100, 0) AS percent\n",
    "FROM counts c\n",
    "JOIN (SELECT COUNT(*) AS total_count\n",
    "      FROM `sustained-node-382818.Restaurants.Restaurant_rating_bucket`\n",
    "      WHERE bucket IN ('EXCELLENT','GOOD')) total\n",
    "ON 1=1\n",
    "ORDER BY percent desc;"
   ]
  },
  {
   "cell_type": "markdown",
   "id": "ae77f531",
   "metadata": {},
   "source": [
    "- 52% of restaurants in Excellent and Good category were mid priced restaurants\n",
    "- 95% of restaurants in Excellent and Good category had 'Familiar' ambience\n",
    "- 89% the restaurants were of Closed area, with excellent rated restaurants being only closed\n",
    "- 54% of restaurants in Excellent and Good category category had no smoking area\n",
    "- 59% of restaurants served only one cuisine\n",
    "- For 27% of the restaurants, cusine is not known. 15% had Mexican cuisine followed by Bar "
   ]
  },
  {
   "cell_type": "markdown",
   "id": "c3c15891",
   "metadata": {},
   "source": [
    "### Data Analysis | Food Ratings - Deep Dive"
   ]
  },
  {
   "cell_type": "code",
   "execution_count": null,
   "id": "9f1fb5a2",
   "metadata": {},
   "outputs": [],
   "source": [
    "SELECT A. FOOD_BUCKET, COUNT(*)\n",
    "FROM `sustained-node-382818.Restaurants.Restaurant_rating_bucket` A\n",
    "GROUP BY 1;"
   ]
  },
  {
   "cell_type": "markdown",
   "id": "1e3ebad9",
   "metadata": {},
   "source": [
    "- 12% of restuarants had ratings greater than 1.5\n",
    "- 59% of restuarants had ratings between 1 and 1.5\n",
    "- 29% of restuarants had ratings less than 1"
   ]
  },
  {
   "cell_type": "code",
   "execution_count": null,
   "id": "6ba0dfd4",
   "metadata": {},
   "outputs": [],
   "source": [
    "## Checking relation among smoking area, alcohol , cuisine and Food ratings\n",
    "\n",
    "WITH counts AS (\n",
    "  SELECT a.Rcuisine1,\n",
    "  -- a.alcohol, a.smoking_area, a.number_of_cuisine, a.Rcuisine1, \n",
    "  COUNT(*) AS count\n",
    "  FROM `sustained-node-382818.Restaurants.Restaurant_rating_bucket` a\n",
    "  WHERE food_bucket IN ('EXCELLENT','GOOD')\n",
    "  GROUP BY 1\n",
    ")\n",
    "SELECT c.Rcuisine1,\n",
    "--  c.alcohol ,c.smoking_area, c.number_of_cuisine, c.Rcuisine1, \n",
    "c.count, ROUND(c.count / total.total_count * 100, 0) AS percent\n",
    "FROM counts c\n",
    "JOIN (SELECT COUNT(*) AS total_count\n",
    "      FROM `sustained-node-382818.Restaurants.Restaurant_rating_bucket`\n",
    "      WHERE food_bucket IN ('EXCELLENT','GOOD')) total\n",
    "ON 1=1;"
   ]
  },
  {
   "cell_type": "markdown",
   "id": "b001c056",
   "metadata": {},
   "source": [
    "- 62% of restaurants in Excellent and Good category were 'No Alcohol served'\n",
    "- 52% of restaurants in Excellent and Good category didnt not have smoking area\n",
    "- 64% the restaurants in Excellent and Good category served only one cuisine\n",
    "- For 25% of the restaurants, cusine is not known. 22% had Mexican cuisine followed by Bar "
   ]
  },
  {
   "cell_type": "markdown",
   "id": "0dee66d8",
   "metadata": {},
   "source": [
    "### Data Analysis | Service Ratings - Deep Dive"
   ]
  },
  {
   "cell_type": "code",
   "execution_count": null,
   "id": "660d87b4",
   "metadata": {},
   "outputs": [],
   "source": [
    "SELECT A. SERVICE_BUCKET, COUNT(*)\n",
    "FROM `sustained-node-382818.Restaurants.Restaurant_rating_bucket` A\n",
    "GROUP BY 1;"
   ]
  },
  {
   "cell_type": "markdown",
   "id": "d4abef2b",
   "metadata": {},
   "source": [
    "- 10% of restuarants had ratings greater than 1.5\n",
    "- 37% of restuarants had ratings between 1 and 1.5\n",
    "- 53% of restuarants had ratings less than 1"
   ]
  },
  {
   "cell_type": "code",
   "execution_count": null,
   "id": "ff6d39aa",
   "metadata": {},
   "outputs": [],
   "source": [
    "## Checking relation among parking, payment , other services and service ratings\n",
    "\n",
    "WITH counts AS (\n",
    "  SELECT a.parking_lot2,\n",
    "  -- a.other_services, a.payment_methods, a.parking_lot1, a.parking_lot2, \n",
    "  COUNT(*) AS count\n",
    "  FROM `sustained-node-382818.Restaurants.Restaurant_rating_bucket` a\n",
    "  WHERE service_bucket IN ('EXCELLENT','GOOD')\n",
    "  GROUP BY 1\n",
    ")\n",
    "SELECT c.parking_lot2,\n",
    "--  c.other_services, c.payment_methods, c.parking_lot1, c.parking_lot2,\n",
    "c.count, ROUND(c.count / total.total_count * 100, 0) AS percent\n",
    "FROM counts c\n",
    "JOIN (SELECT COUNT(*) AS total_count\n",
    "      FROM `sustained-node-382818.Restaurants.Restaurant_rating_bucket`\n",
    "      WHERE service_bucket IN ('EXCELLENT','GOOD')) total\n",
    "ON 1=1;"
   ]
  },
  {
   "cell_type": "markdown",
   "id": "bb1bb2ef",
   "metadata": {},
   "source": [
    "- 87% of restaurants in Excellent and Good category did not have any other services\n",
    "- 55% of restaurants had only one payment method whereas only 34% of restaurants in Excellent and Good category had only one payment method\n",
    "- 48% of restaurants in Excellent and Good category did not have any parking facility"
   ]
  },
  {
   "cell_type": "code",
   "execution_count": null,
   "id": "12312d85",
   "metadata": {},
   "outputs": [],
   "source": [
    "### Identifying Correlation between ratings, cuisines and number of payment method available\n",
    "\n",
    "SELECT\n",
    "  CORR(rating, number_of_cuisine) AS corr_cuisines,\n",
    "  CORR(rating, Payment_method) AS corr_payment,\n",
    "  CORR(food_rating, number_of_cuisine) AS corr_cuisines_food,\n",
    "  CORR(service_rating, Payment_method) AS corr_payment_service\n",
    "FROM  `sustained-node-382818.Restaurants.Restaurant_rating_bucket`;"
   ]
  },
  {
   "cell_type": "markdown",
   "id": "fa892b01",
   "metadata": {},
   "source": [
    "- correlation between restaurant rating and number of cuisine served = 0.10064901223819836\n",
    "- correlation between restaurant rating and number of payment method available =  0.27159236397050907\n",
    "- correlation between restaurant food rating and number of cuisine served = -0.07932895719755062\n",
    "- correlation between restaurant service rating and number of payment method available =  0.34756923224914443"
   ]
  },
  {
   "cell_type": "markdown",
   "id": "63825082",
   "metadata": {},
   "source": [
    "- This suggests that, the number of cuisines served does not strongly influence the restaurant rating.\n",
    "- There is a tendency for higher-rated restaurants to offer a greater variety of payment methods"
   ]
  },
  {
   "cell_type": "markdown",
   "id": "0ec624e5",
   "metadata": {},
   "source": [
    "### Key Questions"
   ]
  },
  {
   "cell_type": "markdown",
   "id": "6ac78b1f",
   "metadata": {},
   "source": [
    "1. Is there any correlation between the ratings and other attributes ?\n",
    "- The number of cuisines served does not strongly influence the restaurant rating.\n",
    "- There is a tendency for higher-rated restaurants to offer a greater variety of payment methods"
   ]
  },
  {
   "cell_type": "markdown",
   "id": "ed202cdf",
   "metadata": {},
   "source": [
    "2. How does the rating vary across different cuisines? Are there any cuisines that generally receive higher ratings?\n",
    "- Mexican followed by bar generally receive higher ratings while regional and japanese had low ratings"
   ]
  },
  {
   "cell_type": "markdown",
   "id": "307acba7",
   "metadata": {},
   "source": [
    "3. Are there any noticeable differences in ratings between restaurants with different characteristics (e.g., informal vs. formal, familiar vs. closed)?\n",
    "- Yes. 97% of the restaurants that had high ratings had informal or causual dress code and \n",
    "- 95% with 'Familiar ambience' and 89% with 'closed' area"
   ]
  },
  {
   "cell_type": "markdown",
   "id": "941a316a",
   "metadata": {},
   "source": [
    "4. How does price of the restaurants affect the rating?\n",
    "- More than 50% of restaurants that received higher ratings are medium priced restaurants"
   ]
  },
  {
   "cell_type": "markdown",
   "id": "4dc63cec",
   "metadata": {},
   "source": [
    "### Insights / Recommendations"
   ]
  },
  {
   "cell_type": "markdown",
   "id": "01fefd04",
   "metadata": {},
   "source": [
    "1. Pricing : Mid priced restaurants attracts higher ratings from customers. Customer more likely to pay medium price for their dining experinece\n",
    "2. Ambience and area : 95% and 89% of Familiar ambience and closed space restaurants received higher ratings, this suggest that customer prefer comfortable, welcoming and closed type atmosphere \n",
    "3.  A considerable percentage 54% of restaurants in the 'Excellent' and 'Good' categories had no smoking area. This reflects the growing trend of providing smoke-free dining spaces to cater to customer preferences and health concerns.\n",
    "4. Cuisine: A significant proportion 59% of restaurants with higher ratings served only one cuisine. This highlights the importance of specialization and focusing on delivering high-quality dishes within a specific culinary genre.\n",
    "5. Unknown Cuisine: It is worth noting that for 27% of the restaurants, the cuisine information is not known. This suggests a need for better data collection and categorization in order to gain a comprehensive understanding of the restaurant landscape.\n",
    "6. 53% of restaurants had lower service ratings, this implies that restaurants should had more services to enhance customer experience"
   ]
  },
  {
   "cell_type": "code",
   "execution_count": null,
   "id": "f4e64e74",
   "metadata": {},
   "outputs": [],
   "source": []
  }
 ],
 "metadata": {
  "kernelspec": {
   "display_name": "Python 3 (ipykernel)",
   "language": "python",
   "name": "python3"
  },
  "language_info": {
   "codemirror_mode": {
    "name": "ipython",
    "version": 3
   },
   "file_extension": ".py",
   "mimetype": "text/x-python",
   "name": "python",
   "nbconvert_exporter": "python",
   "pygments_lexer": "ipython3",
   "version": "3.9.12"
  }
 },
 "nbformat": 4,
 "nbformat_minor": 5
}
